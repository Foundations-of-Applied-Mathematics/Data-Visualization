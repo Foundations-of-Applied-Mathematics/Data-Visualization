{
 "cells": [
  {
   "cell_type": "markdown",
   "metadata": {},
   "source": [
    "# How to plot map data"
   ]
  },
  {
   "cell_type": "markdown",
   "metadata": {},
   "source": [
    "As of this writing, the lab computers do not have matplotlib's Basemap library\n",
    "installed. If you want to install it, go to your terminal and type the command \n",
    "\n",
    "`conda install basemap`\n",
    "\n",
    "and import it as shown below. The file `python_maps.py` in the repo does all of this stuff we are doing below but in two nice functions, `get_data( )` and `plot_the_world( )`. I will demonstrate this below at the end of this notebook."
   ]
  },
  {
   "cell_type": "code",
   "execution_count": null,
   "metadata": {
    "collapsed": true
   },
   "outputs": [],
   "source": [
    "import pandas as pd\n",
    "import numpy as np\n",
    "import python_maps\n",
    "from mpl_toolkits.basemap import Basemap"
   ]
  },
  {
   "cell_type": "code",
   "execution_count": null,
   "metadata": {
    "collapsed": true
   },
   "outputs": [],
   "source": [
    "def get_data():\n",
    "    \"\"\"\n",
    "    Gets water usage data for Los Angeles.\n",
    "    We are most interested in latitude and longitude.\n",
    "    The data is stored in a pandas dataframe.\n",
    "    \"\"\"\n",
    "    web_address = \"https://data.lacity.org/resource/v87k-wgde.json\"\n",
    "    df = pd.read_json(web_address)\n",
    "\n",
    "    # the data is pretty messy\n",
    "    # this code gets rid of everything we want\n",
    "    df.drop(df.columns[:13],axis=1,inplace=True)\n",
    "    J = json.loads(df['location_1'].to_json())\n",
    "    df.drop(df.columns[-2:],axis=1,inplace=True)\n",
    "    \n",
    "    # the column of gps coordinates contains json data\n",
    "    # this gets the gps coordinates from that column\n",
    "    gps1 = []\n",
    "    gps2 = []\n",
    "    for j in range(len(J.keys())):\n",
    "        gps1.append(J[str(j)]['coordinates'][0])\n",
    "        gps2.append(J[str(j)]['coordinates'][1])\n",
    "    # make longitude and latitude columns\n",
    "    df['lon'] = gps1\n",
    "    df['lat'] = gps2\n",
    "    print df.head()\n",
    "    return df"
   ]
  },
  {
   "cell_type": "markdown",
   "metadata": {},
   "source": [
    "Here is what the data look like:"
   ]
  },
  {
   "cell_type": "code",
   "execution_count": null,
   "metadata": {
    "collapsed": true
   },
   "outputs": [],
   "source": [
    "data = get_data()\n",
    "data.head()"
   ]
  },
  {
   "cell_type": "markdown",
   "metadata": {},
   "source": [
    "Create a matplotlib Basemap object. There are lots of map projections you can use. The code below uses a flat earth projection called the mercator projection. Feel free to substitute this with something else like 'robin' for the robinson projection. An overview of the keyword arguments used below:\n",
    "\n",
    "+ lat_0,lon_0: the latitude and longitude to use as the center of the map\n",
    "+ resolution: high or low depending on how detailed you want the map to be\n",
    "+ area_thresh: used to stop matplotlib from plotting tiny lakes and stuff\n",
    "+ llcrnrlon: lower left corner longitude of the map\n",
    "+ llcrnrlat: lower left corner latitude of the map\n",
    "+ urcrnrlon: upper right corner longitude of the map\n",
    "+ urcrnrlat: upper right corner latitude of the map"
   ]
  },
  {
   "cell_type": "code",
   "execution_count": null,
   "metadata": {
    "collapsed": true
   },
   "outputs": [],
   "source": [
    "my_map = Basemap(projection='merc',lat_0=33.,lon_0=-125.,resolution='l',area_thresh=1000.,\n",
    "        llcrnrlon=-130.,llcrnrlat=25,urcrnrlon=-65., urcrnrlat=50)"
   ]
  },
  {
   "cell_type": "markdown",
   "metadata": {},
   "source": [
    "This will create a map centered on the continental USA. But now you have to draw stuff on it."
   ]
  },
  {
   "cell_type": "code",
   "execution_count": null,
   "metadata": {
    "collapsed": true
   },
   "outputs": [],
   "source": [
    "# it's pretty self-explanatory\n",
    "my_map.drawcoastlines(color='grey')\n",
    "my_map.drawcountries(color='grey')\n",
    "my_map.drawstates(color='grey')"
   ]
  },
  {
   "cell_type": "markdown",
   "metadata": {},
   "source": [
    "Now put colors for the land and sea. I chose to go with white because it looks best when you plot points."
   ]
  },
  {
   "cell_type": "code",
   "execution_count": null,
   "metadata": {
    "collapsed": true
   },
   "outputs": [],
   "source": [
    "my_map.drawlsmask(land_color='white',ocean_color='white')\n",
    "# also draw a map boundary\n",
    "my_map.drawmapboundary()"
   ]
  },
  {
   "cell_type": "markdown",
   "metadata": {},
   "source": [
    "Now let's actually plot our data points. Throw in the dataframe created above. Basemap will automatically convert the latitudes and longitudes to fit the projection of the map. Take a look at the map!"
   ]
  },
  {
   "cell_type": "code",
   "execution_count": null,
   "metadata": {
    "collapsed": true
   },
   "outputs": [],
   "source": [
    "x,y = my_map(np.array(data['lon']),np.array(data['lat']))\n",
    "# scatter plot with constant bubble size\n",
    "my_map.plot(x,y,'ro',markersize=3,alpha=.4,linewidth=0)\n",
    "plt.show()\n",
    "df = get_data()\n",
    "plot_the_world(df)"
   ]
  },
  {
   "cell_type": "markdown",
   "metadata": {},
   "source": [
    "Wow. So wow. Very map. Look at the `python_maps.py` code for a not notebook version of this."
   ]
  },
  {
   "cell_type": "code",
   "execution_count": null,
   "metadata": {
    "collapsed": true
   },
   "outputs": [],
   "source": [
    "df = python_maps.get_data()\n",
    "plot_the_world(df)"
   ]
  }
 ],
 "metadata": {
  "kernelspec": {
   "display_name": "Python 2",
   "language": "python",
   "name": "python2"
  },
  "language_info": {
   "codemirror_mode": {
    "name": "ipython",
    "version": 2
   },
   "file_extension": ".py",
   "mimetype": "text/x-python",
   "name": "python",
   "nbconvert_exporter": "python",
   "pygments_lexer": "ipython2",
   "version": "2.7.11"
  }
 },
 "nbformat": 4,
 "nbformat_minor": 0
}
